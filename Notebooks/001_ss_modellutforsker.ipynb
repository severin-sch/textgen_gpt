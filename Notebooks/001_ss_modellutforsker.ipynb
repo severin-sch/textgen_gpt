{
 "cells": [
  {
   "cell_type": "code",
   "execution_count": 1,
   "metadata": {},
   "outputs": [
    {
     "name": "stdout",
     "output_type": "stream",
     "text": [
      "Collecting aitextgen\n",
      "  Downloading aitextgen-0.5.0.tar.gz (571 kB)\n",
      "Collecting transformers>=4.5.1\n",
      "  Downloading transformers-4.5.1-py3-none-any.whl (2.1 MB)\n",
      "Collecting fire>=0.3.0\n",
      "  Downloading fire-0.4.0.tar.gz (87 kB)\n",
      "Collecting pytorch-lightning>=1.2.7\n",
      "  Downloading pytorch_lightning-1.2.8-py3-none-any.whl (841 kB)\n",
      "Collecting torch>=1.6.0\n",
      "  Downloading torch-1.8.1-cp38-cp38-win_amd64.whl (190.5 MB)\n",
      "Requirement already satisfied: six in c:\\users\\bruker\\anaconda3\\lib\\site-packages (from fire>=0.3.0->aitextgen) (1.15.0)\n",
      "Collecting termcolor\n",
      "  Using cached termcolor-1.1.0-py3-none-any.whl\n",
      "Collecting tensorboard>=2.2.0\n",
      "  Downloading tensorboard-2.5.0-py3-none-any.whl (6.0 MB)\n",
      "Requirement already satisfied: PyYAML!=5.4.*,>=5.1 in c:\\users\\bruker\\anaconda3\\lib\\site-packages (from pytorch-lightning>=1.2.7->aitextgen) (5.3.1)\n",
      "Requirement already satisfied: future>=0.17.1 in c:\\users\\bruker\\anaconda3\\lib\\site-packages (from pytorch-lightning>=1.2.7->aitextgen) (0.18.2)\n",
      "Requirement already satisfied: fsspec[http]>=0.8.1 in c:\\users\\bruker\\anaconda3\\lib\\site-packages (from pytorch-lightning>=1.2.7->aitextgen) (0.8.3)\n",
      "Collecting torchmetrics>=0.2.0\n",
      "  Downloading torchmetrics-0.2.0-py3-none-any.whl (176 kB)\n",
      "Requirement already satisfied: tqdm>=4.41.0 in c:\\users\\bruker\\anaconda3\\lib\\site-packages (from pytorch-lightning>=1.2.7->aitextgen) (4.50.2)\n",
      "Requirement already satisfied: numpy>=1.16.6 in c:\\users\\bruker\\anaconda3\\lib\\site-packages (from pytorch-lightning>=1.2.7->aitextgen) (1.19.2)\n",
      "Collecting aiohttp\n",
      "  Downloading aiohttp-3.7.4.post0-cp38-cp38-win_amd64.whl (635 kB)\n",
      "Requirement already satisfied: requests in c:\\users\\bruker\\anaconda3\\lib\\site-packages (from fsspec[http]>=0.8.1->pytorch-lightning>=1.2.7->aitextgen) (2.24.0)\n",
      "Collecting google-auth<2,>=1.6.3\n",
      "  Downloading google_auth-1.29.0-py2.py3-none-any.whl (142 kB)\n",
      "Requirement already satisfied: setuptools>=41.0.0 in c:\\users\\bruker\\anaconda3\\lib\\site-packages (from tensorboard>=2.2.0->pytorch-lightning>=1.2.7->aitextgen) (50.3.1.post20201107)\n",
      "Collecting markdown>=2.6.8\n",
      "  Downloading Markdown-3.3.4-py3-none-any.whl (97 kB)\n",
      "Collecting tensorboard-plugin-wit>=1.6.0\n",
      "  Using cached tensorboard_plugin_wit-1.8.0-py3-none-any.whl (781 kB)\n",
      "Collecting protobuf>=3.6.0\n",
      "  Downloading protobuf-3.15.8-py2.py3-none-any.whl (173 kB)\n",
      "Requirement already satisfied: wheel>=0.26 in c:\\users\\bruker\\anaconda3\\lib\\site-packages (from tensorboard>=2.2.0->pytorch-lightning>=1.2.7->aitextgen) (0.35.1)\n",
      "Requirement already satisfied: werkzeug>=0.11.15 in c:\\users\\bruker\\anaconda3\\lib\\site-packages (from tensorboard>=2.2.0->pytorch-lightning>=1.2.7->aitextgen) (1.0.1)\n",
      "Collecting grpcio>=1.24.3\n",
      "  Downloading grpcio-1.37.0-cp38-cp38-win_amd64.whl (3.1 MB)\n",
      "Collecting google-auth-oauthlib<0.5,>=0.4.1\n",
      "  Downloading google_auth_oauthlib-0.4.4-py2.py3-none-any.whl (18 kB)\n",
      "Collecting tensorboard-data-server<0.7.0,>=0.6.0\n",
      "  Downloading tensorboard_data_server-0.6.0-py3-none-any.whl (2.3 kB)\n",
      "Collecting absl-py>=0.4\n",
      "  Downloading absl_py-0.12.0-py3-none-any.whl (129 kB)\n",
      "Collecting cachetools<5.0,>=2.0.0\n",
      "  Downloading cachetools-4.2.1-py3-none-any.whl (12 kB)\n",
      "Collecting rsa<5,>=3.1.4\n",
      "  Downloading rsa-4.7.2-py3-none-any.whl (34 kB)\n",
      "Collecting pyasn1-modules>=0.2.1\n",
      "  Using cached pyasn1_modules-0.2.8-py2.py3-none-any.whl (155 kB)\n",
      "Collecting requests-oauthlib>=0.7.0\n",
      "  Using cached requests_oauthlib-1.3.0-py2.py3-none-any.whl (23 kB)\n",
      "Collecting pyasn1<0.5.0,>=0.4.6\n",
      "  Using cached pyasn1-0.4.8-py2.py3-none-any.whl (77 kB)\n",
      "Requirement already satisfied: certifi>=2017.4.17 in c:\\users\\bruker\\anaconda3\\lib\\site-packages (from requests->fsspec[http]>=0.8.1->pytorch-lightning>=1.2.7->aitextgen) (2020.6.20)\n",
      "Requirement already satisfied: idna<3,>=2.5 in c:\\users\\bruker\\anaconda3\\lib\\site-packages (from requests->fsspec[http]>=0.8.1->pytorch-lightning>=1.2.7->aitextgen) (2.10)\n",
      "Requirement already satisfied: urllib3!=1.25.0,!=1.25.1,<1.26,>=1.21.1 in c:\\users\\bruker\\anaconda3\\lib\\site-packages (from requests->fsspec[http]>=0.8.1->pytorch-lightning>=1.2.7->aitextgen) (1.25.11)\n",
      "Requirement already satisfied: chardet<4,>=3.0.2 in c:\\users\\bruker\\anaconda3\\lib\\site-packages (from requests->fsspec[http]>=0.8.1->pytorch-lightning>=1.2.7->aitextgen) (3.0.4)\n",
      "Collecting oauthlib>=3.0.0\n",
      "  Using cached oauthlib-3.1.0-py2.py3-none-any.whl (147 kB)\n",
      "Requirement already satisfied: typing-extensions in c:\\users\\bruker\\anaconda3\\lib\\site-packages (from torch>=1.6.0->aitextgen) (3.7.4.3)\n",
      "Requirement already satisfied: regex!=2019.12.17 in c:\\users\\bruker\\anaconda3\\lib\\site-packages (from transformers>=4.5.1->aitextgen) (2020.10.15)\n",
      "Requirement already satisfied: filelock in c:\\users\\bruker\\anaconda3\\lib\\site-packages (from transformers>=4.5.1->aitextgen) (3.0.12)\n",
      "Requirement already satisfied: packaging in c:\\users\\bruker\\anaconda3\\lib\\site-packages (from transformers>=4.5.1->aitextgen) (20.4)\n",
      "Collecting tokenizers<0.11,>=0.10.1\n",
      "  Downloading tokenizers-0.10.2-cp38-cp38-win_amd64.whl (2.0 MB)\n",
      "Collecting sacremoses\n",
      "  Downloading sacremoses-0.0.45-py3-none-any.whl (895 kB)\n",
      "Collecting async-timeout<4.0,>=3.0\n",
      "  Downloading async_timeout-3.0.1-py3-none-any.whl (8.2 kB)\n",
      "Requirement already satisfied: attrs>=17.3.0 in c:\\users\\bruker\\anaconda3\\lib\\site-packages (from aiohttp->fsspec[http]>=0.8.1->pytorch-lightning>=1.2.7->aitextgen) (20.3.0)\n",
      "Collecting yarl<2.0,>=1.0\n",
      "  Downloading yarl-1.6.3-cp38-cp38-win_amd64.whl (125 kB)\n",
      "Collecting multidict<7.0,>=4.5\n",
      "  Downloading multidict-5.1.0-cp38-cp38-win_amd64.whl (48 kB)\n",
      "Requirement already satisfied: pyparsing>=2.0.2 in c:\\users\\bruker\\anaconda3\\lib\\site-packages (from packaging->transformers>=4.5.1->aitextgen) (2.4.7)\n",
      "Requirement already satisfied: joblib in c:\\users\\bruker\\anaconda3\\lib\\site-packages (from sacremoses->transformers>=4.5.1->aitextgen) (0.17.0)\n",
      "Requirement already satisfied: click in c:\\users\\bruker\\anaconda3\\lib\\site-packages (from sacremoses->transformers>=4.5.1->aitextgen) (7.1.2)\n",
      "Building wheels for collected packages: aitextgen, fire\n",
      "  Building wheel for aitextgen (setup.py): started\n",
      "  Building wheel for aitextgen (setup.py): finished with status 'done'\n",
      "  Created wheel for aitextgen: filename=aitextgen-0.5.0-py3-none-any.whl size=574671 sha256=a8e93a333e75ee9dab8e7f01e3077030939cfeb2d65786f317cbed48dfe5d0f2\n",
      "  Stored in directory: c:\\users\\bruker\\appdata\\local\\pip\\cache\\wheels\\8c\\2d\\0a\\351f2dd48c37dec62e3713fdfbc3f3118e1ca35ae7bc197a8c\n",
      "  Building wheel for fire (setup.py): started\n",
      "  Building wheel for fire (setup.py): finished with status 'done'\n",
      "  Created wheel for fire: filename=fire-0.4.0-py2.py3-none-any.whl size=115932 sha256=ab2f89f6d85de8654e4d54be8a870ef8a9fabc11e732238a59790a6c9be6dc2a\n",
      "  Stored in directory: c:\\users\\bruker\\appdata\\local\\pip\\cache\\wheels\\1f\\10\\06\\2a990ee4d73a8479fe2922445e8a876d38cfbfed052284c6a1\n",
      "Successfully built aitextgen fire\n",
      "Installing collected packages: pyasn1, rsa, pyasn1-modules, oauthlib, multidict, cachetools, yarl, requests-oauthlib, google-auth, async-timeout, torch, tensorboard-plugin-wit, tensorboard-data-server, protobuf, markdown, grpcio, google-auth-oauthlib, aiohttp, absl-py, torchmetrics, tokenizers, termcolor, tensorboard, sacremoses, transformers, pytorch-lightning, fire, aitextgen\n",
      "Successfully installed absl-py-0.12.0 aiohttp-3.7.4.post0 aitextgen-0.5.0 async-timeout-3.0.1 cachetools-4.2.1 fire-0.4.0 google-auth-1.29.0 google-auth-oauthlib-0.4.4 grpcio-1.37.0 markdown-3.3.4 multidict-5.1.0 oauthlib-3.1.0 protobuf-3.15.8 pyasn1-0.4.8 pyasn1-modules-0.2.8 pytorch-lightning-1.2.8 requests-oauthlib-1.3.0 rsa-4.7.2 sacremoses-0.0.45 tensorboard-2.5.0 tensorboard-data-server-0.6.0 tensorboard-plugin-wit-1.8.0 termcolor-1.1.0 tokenizers-0.10.2 torch-1.8.1 torchmetrics-0.2.0 transformers-4.5.1 yarl-1.6.3\n"
     ]
    }
   ],
   "source": [
    "!pip install aitextgen"
   ]
  },
  {
   "cell_type": "code",
   "execution_count": 2,
   "metadata": {},
   "outputs": [
    {
     "data": {
      "application/vnd.jupyter.widget-view+json": {
       "model_id": "cd025f2f31064bfebba0aa1b6f5892b9",
       "version_major": 2,
       "version_minor": 0
      },
      "text/plain": [
       "HBox(children=(HTML(value='Downloading'), FloatProgress(value=0.0, max=665.0), HTML(value='')))"
      ]
     },
     "metadata": {},
     "output_type": "display_data"
    },
    {
     "name": "stdout",
     "output_type": "stream",
     "text": [
      "\n"
     ]
    },
    {
     "data": {
      "application/vnd.jupyter.widget-view+json": {
       "model_id": "bd9adb73d9234017949d18b9bf96eb54",
       "version_major": 2,
       "version_minor": 0
      },
      "text/plain": [
       "HBox(children=(HTML(value='Downloading'), FloatProgress(value=0.0, max=548118077.0), HTML(value='')))"
      ]
     },
     "metadata": {},
     "output_type": "display_data"
    },
    {
     "name": "stdout",
     "output_type": "stream",
     "text": [
      "\n",
      "Bilal Fazlurian, who wrote a book on the subject, is now in prison on a charge of inciting religious hatred against Muslims.\n",
      "\n",
      "Fazlurian has been in prison for the past five years in connection to the killing of a man by a group of Pakistanis in Peshawar in March last year.\n",
      "\n",
      "The book, called 'Islam Is Not a Religion,' was published in April.\n",
      "\n",
      "Fazlurian's book, which was published in August, was based on the information he had collected about the Prophet Mohammed in his last years in prison.\n",
      "\n",
      "He was jailed after he released a suicide note in which he claimed he wanted to 'come out of prison to stop those who are not 'honoured' and 'holy' Muslims.\n",
      "\n",
      "In the book, he says: 'There is no god but Allah, there is no god but hell and all those who are not 'honoured' and 'holy' Muslims.'\n",
      "\n",
      "He says: 'We have not received any revelation from Allah about the origin of the universe or about any other part of the universe.'\n",
      "\n",
      "The book concludes with a quote he gave to his ex-girlfriend Jibran Mahmud.\n",
      "\n",
      "'We\n",
      "The following text is a summary of the following topics:\n",
      "\n",
      "\"The United States: the origin of the US, and its relationship with the rest of the world.\n",
      "\n",
      "\"The United States' influence over other countries and other non-United States states: the US' role in World War I and its implications for international conflicts.\n",
      "\n",
      "\"The US' role in Africa and the Middle East: the US' role in the Middle East.\n",
      "\n",
      "\"The US' role in\n",
      "==========\n",
      "I have a bit of a problem with people. They are so easily confused, who knew that there were some nice people who were really well known for their work, but were just being stupid? I have never even heard of a person who is a great manager. I think it would be better if people were more like me and less like the managers. I am not a big fan of using the term \"I'm a manager\", but I think it is probably more accurate to say \"I\n",
      "==========\n",
      "The New York Times's report last month said the Trump administration was \"overstating the importance\" of the refugee deal.\n",
      "\n",
      "\"For some time, the administration has been focused on the fact that there's a lot of room for all of us in the United States working to provide a pathway to safety, to help people who are fleeing persecution,\" said Chris Cillizza, a former White House official now in Washington, D.C., who was once a senior adviser on the president\n",
      "\u001b[1mI believe in unicorns because\u001b[0m they make me want to sing and dance and have a personality, and I think I'm a very good dancer, so it's the first time I've ever heard unicorns sung in my life.\n",
      "\n",
      "As far as the actual experience of playing with unicorns, it's kind of a dream come true. I think that it's amazing. The first time I saw my dad play around with unicorns, it was like, \"I was just about to go\n",
      "==========\n",
      "\u001b[1mI believe in unicorns because\u001b[0m they don't need to be told what to do, and that's what the unicorns do,\" he said.\n",
      "\n",
      "While he has been critical of Trump's \"lack of judgment,\" the former senator said he respects Trump's philosophy on immigration, but also believes he should be more concerned with how he votes.\n",
      "\n",
      "\"I also think that there's no way that I would vote for somebody who believes in more immigration-focused policies because they want to create\n",
      "==========\n",
      "\u001b[1mI believe in unicorns because\u001b[0m they're such a common sight and a part of the culture. I believe in unicorns because they've been raised in such a unique environment.\"\n",
      "\n",
      "The students are excited, but many disagree.\n",
      "\n",
      "\"It's not a secret that it's good for the environment,\" said Sam, a sophomore in art and music studies. \"But we are afraid to show our love or be respectful of the environment, and we want to be safe.\"\n",
      "\n",
      "The students\n"
     ]
    },
    {
     "data": {
      "application/vnd.jupyter.widget-view+json": {
       "model_id": "5e6e1089d3ac42f2a67c42607bcb4868",
       "version_major": 2,
       "version_minor": 0
      },
      "text/plain": [
       "HBox(children=(HTML(value=''), FloatProgress(value=0.0, max=10.0), HTML(value='')))"
      ]
     },
     "metadata": {},
     "output_type": "display_data"
    },
    {
     "name": "stdout",
     "output_type": "stream",
     "text": [
      "\n"
     ]
    }
   ],
   "source": [
    "from aitextgen import aitextgen\n",
    "\n",
    "# Without any parameters, aitextgen() will download, cache, and load the 124M GPT-2 \"small\" model\n",
    "ai = aitextgen()\n",
    "\n",
    "ai.generate()\n",
    "ai.generate(n=3, max_length=100)\n",
    "ai.generate(n=3, prompt=\"I believe in unicorns because\", max_length=100)\n",
    "ai.generate_to_file(n=10, prompt=\"I believe in unicorns because\", max_length=100, temperature=1.2)"
   ]
  },
  {
   "cell_type": "code",
   "execution_count": 6,
   "metadata": {},
   "outputs": [
    {
     "name": "stdout",
     "output_type": "stream",
     "text": [
      "\u001b[1mTrump is president because\u001b[0m he was \"in the right place at the right time.\"\n",
      "\n",
      "Ahead of his inauguration, Trump's administration has been looking to boost its overseas military presence. The Pentagon announced a $1.1 billion expansion this month to the Central Asia, Caribbean and South Pacific regions. It also is looking to buy more U.S. defense equipment to help fight ISIS in Iraq and Syria.\n",
      "\n",
      "The Pentagon has also said it will be sending more combat troops to Afghanistan and to\n",
      "---------------------\n",
      "\u001b[1mClimate change is\u001b[0m already causing more and more people to live in areas where they are less able to afford food. We can't afford to keep that up,\" she said.\n",
      "\n",
      "The federal government is committed to reducing food insecurity. The government has pledged to meet its $6 billion food insecurity target by 2020.\n",
      "\n",
      "The group has taken issue with the federal government's decision to put a freeze on food stamp benefits and a freeze on non-food stamp benefits for the first time in nearly 40 years\n",
      "---------------------\n",
      "\u001b[1mThe coronavirus is\u001b[0m a deadly and deadly strain of the deadly avian influenza virus that infects about 60,000 Americans each year. The virus is highly contagious and can be fatal. The virus is transmitted through blood or saliva.\n",
      "\n",
      "The coronavirus kills about 10 percent of people infected with the virus.\n",
      "\n",
      "\"As we grow older, the immune system has evolved the capability to develop a more sophisticated defense against virus infections,\" said CDC Director Tom Frieden. \"The virus has\n",
      "---------------------\n",
      "\u001b[1mWhat is Black Lives Matter?\u001b[0m\n",
      "\n",
      "Black Lives Matter is a movement that calls for racial justice and a more equitable representation of all people of color. It has not been successful in doing so, but it has begun to spread to a wider audience, and is a movement that has been growing ever since President Barack Obama won the election.\n",
      "\n",
      "How does Black Lives Matter have the power to change the way that we live?\n",
      "\n",
      "The movement has tremendous power. The movement is not a movement for\n",
      "---------------------\n",
      "\u001b[1mWhat is white supremacy?\u001b[0m\n",
      "\n",
      "Yes, it is a common label used by white supremacists to describe their ideology, and it is not in any way a new one.\n",
      "\n",
      "White supremacists have been a force in the movement since the 1876 Declaration of Independence, and have been an integral part of the movement since the founding of the United States.\n",
      "\n",
      "White supremacy is also a term used to describe the rise of racial ideologies, that is, ideologies that are based on the systematic oppression of others\n",
      "---------------------\n"
     ]
    }
   ],
   "source": [
    "prompts = [\"Trump is president because\", \n",
    "            \"Climate change is\",\n",
    "            \"The coronavirus is\", \n",
    "            \"What is Black Lives Matter?\",\n",
    "            \"What is white supremacy?\"]\n",
    "for prompt in prompts:\n",
    "    ai.generate(n=1, prompt=prompt, max_length=100)\n",
    "    print(\"---------------------\")"
   ]
  }
 ],
 "metadata": {
  "kernelspec": {
   "display_name": "Python 3",
   "language": "python",
   "name": "python3"
  },
  "language_info": {
   "codemirror_mode": {
    "name": "ipython",
    "version": 3
   },
   "file_extension": ".py",
   "mimetype": "text/x-python",
   "name": "python",
   "nbconvert_exporter": "python",
   "pygments_lexer": "ipython3",
   "version": "3.8.5"
  }
 },
 "nbformat": 4,
 "nbformat_minor": 4
}

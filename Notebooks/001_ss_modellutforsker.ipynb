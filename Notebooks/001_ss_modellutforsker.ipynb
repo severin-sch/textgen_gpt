{
 "cells": [
  {
   "cell_type": "code",
   "execution_count": 3,
   "metadata": {},
   "outputs": [
    {
     "name": "stdout",
     "output_type": "stream",
     "text": [
      "Requirement already satisfied: aitextgen in /opt/anaconda3/lib/python3.7/site-packages (0.5.0)\n",
      "Requirement already satisfied: transformers>=4.5.1 in /opt/anaconda3/lib/python3.7/site-packages (from aitextgen) (4.5.1)\n",
      "Requirement already satisfied: pytorch-lightning>=1.2.7 in /opt/anaconda3/lib/python3.7/site-packages (from aitextgen) (1.2.8)\n",
      "Requirement already satisfied: fire>=0.3.0 in /opt/anaconda3/lib/python3.7/site-packages (from aitextgen) (0.4.0)\n",
      "Requirement already satisfied: torch>=1.6.0 in /opt/anaconda3/lib/python3.7/site-packages (from aitextgen) (1.8.1)\n",
      "Requirement already satisfied: packaging in /opt/anaconda3/lib/python3.7/site-packages (from transformers>=4.5.1->aitextgen) (19.2)\n",
      "Requirement already satisfied: requests in /opt/anaconda3/lib/python3.7/site-packages (from transformers>=4.5.1->aitextgen) (2.22.0)\n",
      "Requirement already satisfied: filelock in /opt/anaconda3/lib/python3.7/site-packages (from transformers>=4.5.1->aitextgen) (3.0.12)\n",
      "Requirement already satisfied: tokenizers<0.11,>=0.10.1 in /opt/anaconda3/lib/python3.7/site-packages (from transformers>=4.5.1->aitextgen) (0.10.2)\n",
      "Requirement already satisfied: tqdm>=4.27 in /opt/anaconda3/lib/python3.7/site-packages (from transformers>=4.5.1->aitextgen) (4.58.0)\n",
      "Requirement already satisfied: numpy>=1.17 in /opt/anaconda3/lib/python3.7/site-packages (from transformers>=4.5.1->aitextgen) (1.17.2)\n",
      "Requirement already satisfied: importlib-metadata; python_version < \"3.8\" in /opt/anaconda3/lib/python3.7/site-packages (from transformers>=4.5.1->aitextgen) (2.1.1)\n",
      "Requirement already satisfied: regex!=2019.12.17 in /opt/anaconda3/lib/python3.7/site-packages (from transformers>=4.5.1->aitextgen) (2021.4.4)\n",
      "Requirement already satisfied: sacremoses in /opt/anaconda3/lib/python3.7/site-packages (from transformers>=4.5.1->aitextgen) (0.0.45)\n",
      "Requirement already satisfied: future>=0.17.1 in /opt/anaconda3/lib/python3.7/site-packages (from pytorch-lightning>=1.2.7->aitextgen) (0.17.1)\n",
      "Requirement already satisfied: tensorboard>=2.2.0 in /opt/anaconda3/lib/python3.7/site-packages (from pytorch-lightning>=1.2.7->aitextgen) (2.5.0)\n",
      "Requirement already satisfied: PyYAML!=5.4.*,>=5.1 in /opt/anaconda3/lib/python3.7/site-packages (from pytorch-lightning>=1.2.7->aitextgen) (5.1.2)\n",
      "Requirement already satisfied: fsspec[http]>=0.8.1 in /opt/anaconda3/lib/python3.7/site-packages (from pytorch-lightning>=1.2.7->aitextgen) (2021.4.0)\n",
      "Requirement already satisfied: torchmetrics>=0.2.0 in /opt/anaconda3/lib/python3.7/site-packages (from pytorch-lightning>=1.2.7->aitextgen) (0.2.0)\n",
      "Requirement already satisfied: termcolor in /opt/anaconda3/lib/python3.7/site-packages (from fire>=0.3.0->aitextgen) (1.1.0)\n",
      "Requirement already satisfied: six in /opt/anaconda3/lib/python3.7/site-packages (from fire>=0.3.0->aitextgen) (1.12.0)\n",
      "Requirement already satisfied: typing-extensions in /opt/anaconda3/lib/python3.7/site-packages (from torch>=1.6.0->aitextgen) (3.7.4.3)\n",
      "Requirement already satisfied: pyparsing>=2.0.2 in /opt/anaconda3/lib/python3.7/site-packages (from packaging->transformers>=4.5.1->aitextgen) (2.4.2)\n",
      "Requirement already satisfied: certifi>=2017.4.17 in /opt/anaconda3/lib/python3.7/site-packages (from requests->transformers>=4.5.1->aitextgen) (2019.9.11)\n",
      "Requirement already satisfied: chardet<3.1.0,>=3.0.2 in /opt/anaconda3/lib/python3.7/site-packages (from requests->transformers>=4.5.1->aitextgen) (3.0.4)\n",
      "Requirement already satisfied: urllib3!=1.25.0,!=1.25.1,<1.26,>=1.21.1 in /opt/anaconda3/lib/python3.7/site-packages (from requests->transformers>=4.5.1->aitextgen) (1.25.11)\n",
      "Requirement already satisfied: idna<2.9,>=2.5 in /opt/anaconda3/lib/python3.7/site-packages (from requests->transformers>=4.5.1->aitextgen) (2.8)\n",
      "Requirement already satisfied: zipp>=0.5 in /opt/anaconda3/lib/python3.7/site-packages (from importlib-metadata; python_version < \"3.8\"->transformers>=4.5.1->aitextgen) (0.6.0)\n",
      "Requirement already satisfied: joblib in /opt/anaconda3/lib/python3.7/site-packages (from sacremoses->transformers>=4.5.1->aitextgen) (0.13.2)\n",
      "Requirement already satisfied: click in /opt/anaconda3/lib/python3.7/site-packages (from sacremoses->transformers>=4.5.1->aitextgen) (7.0)\n",
      "Requirement already satisfied: grpcio>=1.24.3 in /opt/anaconda3/lib/python3.7/site-packages (from tensorboard>=2.2.0->pytorch-lightning>=1.2.7->aitextgen) (1.37.0)\n",
      "Requirement already satisfied: google-auth<2,>=1.6.3 in /opt/anaconda3/lib/python3.7/site-packages (from tensorboard>=2.2.0->pytorch-lightning>=1.2.7->aitextgen) (1.29.0)\n",
      "Requirement already satisfied: protobuf>=3.6.0 in /opt/anaconda3/lib/python3.7/site-packages (from tensorboard>=2.2.0->pytorch-lightning>=1.2.7->aitextgen) (3.15.8)\n",
      "Requirement already satisfied: absl-py>=0.4 in /opt/anaconda3/lib/python3.7/site-packages (from tensorboard>=2.2.0->pytorch-lightning>=1.2.7->aitextgen) (0.12.0)\n",
      "Requirement already satisfied: tensorboard-data-server<0.7.0,>=0.6.0 in /opt/anaconda3/lib/python3.7/site-packages (from tensorboard>=2.2.0->pytorch-lightning>=1.2.7->aitextgen) (0.6.0)\n",
      "Requirement already satisfied: setuptools>=41.0.0 in /opt/anaconda3/lib/python3.7/site-packages (from tensorboard>=2.2.0->pytorch-lightning>=1.2.7->aitextgen) (41.4.0)\n",
      "Requirement already satisfied: google-auth-oauthlib<0.5,>=0.4.1 in /opt/anaconda3/lib/python3.7/site-packages (from tensorboard>=2.2.0->pytorch-lightning>=1.2.7->aitextgen) (0.4.4)\n",
      "Requirement already satisfied: markdown>=2.6.8 in /opt/anaconda3/lib/python3.7/site-packages (from tensorboard>=2.2.0->pytorch-lightning>=1.2.7->aitextgen) (3.3.4)\n",
      "Requirement already satisfied: wheel>=0.26; python_version >= \"3\" in /opt/anaconda3/lib/python3.7/site-packages (from tensorboard>=2.2.0->pytorch-lightning>=1.2.7->aitextgen) (0.33.6)\n",
      "Requirement already satisfied: tensorboard-plugin-wit>=1.6.0 in /opt/anaconda3/lib/python3.7/site-packages (from tensorboard>=2.2.0->pytorch-lightning>=1.2.7->aitextgen) (1.8.0)\n",
      "Requirement already satisfied: werkzeug>=0.11.15 in /opt/anaconda3/lib/python3.7/site-packages (from tensorboard>=2.2.0->pytorch-lightning>=1.2.7->aitextgen) (0.16.0)\n",
      "Requirement already satisfied: aiohttp; extra == \"http\" in /opt/anaconda3/lib/python3.7/site-packages (from fsspec[http]>=0.8.1->pytorch-lightning>=1.2.7->aitextgen) (3.7.4.post0)\n",
      "Requirement already satisfied: more-itertools in /opt/anaconda3/lib/python3.7/site-packages (from zipp>=0.5->importlib-metadata; python_version < \"3.8\"->transformers>=4.5.1->aitextgen) (7.2.0)\n",
      "Requirement already satisfied: rsa<5,>=3.1.4; python_version >= \"3.6\" in /opt/anaconda3/lib/python3.7/site-packages (from google-auth<2,>=1.6.3->tensorboard>=2.2.0->pytorch-lightning>=1.2.7->aitextgen) (4.7.2)\n",
      "Requirement already satisfied: pyasn1-modules>=0.2.1 in /opt/anaconda3/lib/python3.7/site-packages (from google-auth<2,>=1.6.3->tensorboard>=2.2.0->pytorch-lightning>=1.2.7->aitextgen) (0.2.8)\n",
      "Requirement already satisfied: cachetools<5.0,>=2.0.0 in /opt/anaconda3/lib/python3.7/site-packages (from google-auth<2,>=1.6.3->tensorboard>=2.2.0->pytorch-lightning>=1.2.7->aitextgen) (4.2.1)\n",
      "Requirement already satisfied: requests-oauthlib>=0.7.0 in /opt/anaconda3/lib/python3.7/site-packages (from google-auth-oauthlib<0.5,>=0.4.1->tensorboard>=2.2.0->pytorch-lightning>=1.2.7->aitextgen) (1.3.0)\n",
      "Requirement already satisfied: async-timeout<4.0,>=3.0 in /opt/anaconda3/lib/python3.7/site-packages (from aiohttp; extra == \"http\"->fsspec[http]>=0.8.1->pytorch-lightning>=1.2.7->aitextgen) (3.0.1)\n",
      "Requirement already satisfied: multidict<7.0,>=4.5 in /opt/anaconda3/lib/python3.7/site-packages (from aiohttp; extra == \"http\"->fsspec[http]>=0.8.1->pytorch-lightning>=1.2.7->aitextgen) (5.1.0)\n",
      "Requirement already satisfied: attrs>=17.3.0 in /opt/anaconda3/lib/python3.7/site-packages (from aiohttp; extra == \"http\"->fsspec[http]>=0.8.1->pytorch-lightning>=1.2.7->aitextgen) (19.2.0)\n",
      "Requirement already satisfied: yarl<2.0,>=1.0 in /opt/anaconda3/lib/python3.7/site-packages (from aiohttp; extra == \"http\"->fsspec[http]>=0.8.1->pytorch-lightning>=1.2.7->aitextgen) (1.6.3)\n",
      "Requirement already satisfied: pyasn1>=0.1.3 in /opt/anaconda3/lib/python3.7/site-packages (from rsa<5,>=3.1.4; python_version >= \"3.6\"->google-auth<2,>=1.6.3->tensorboard>=2.2.0->pytorch-lightning>=1.2.7->aitextgen) (0.4.8)\n",
      "Requirement already satisfied: oauthlib>=3.0.0 in /opt/anaconda3/lib/python3.7/site-packages (from requests-oauthlib>=0.7.0->google-auth-oauthlib<0.5,>=0.4.1->tensorboard>=2.2.0->pytorch-lightning>=1.2.7->aitextgen) (3.1.0)\n"
     ]
    }
   ],
   "source": [
    "!pip install aitextgen"
   ]
  },
  {
   "cell_type": "code",
   "execution_count": null,
   "metadata": {},
   "outputs": [
    {
     "name": "stdout",
     "output_type": "stream",
     "text": [
      "Jaelyn Jenner, the transgender woman who was born a man, has said she wants to change her gender identity.\n",
      "\n",
      "In a statement on the company's website, the company announced that it would change its name to Jenner in May, and its new name will be called \"M. J..\" in June. The company also said that it will be changing its name to \"J\" in September.\n",
      "\n",
      "The company said it will soon be taking a \"long look\" at the transgender community.\n",
      "\n",
      "The company's announcement came a day after the San Francisco Examiner's Mike Allen reported that the transgender community has been \"shocked by the reaction\" from some in the community.\n",
      "\n",
      "\"I don't know if it's a huge amount of people out there that are going to be upset about this,\" said Allen, who is transgender.\n",
      "\n",
      "The public is \"shocked\" because the announcement of the name is \"a very welcome change, considering that transgender people are a group that is very diverse and growing and has many different needs,\" said Allen, who also is a member of the Transgender Law Center.\n",
      "\n",
      "Jenner, who is of mixed race, was born male and underwent surgery in 2012 for gender reassignment surgery. She\n",
      "Walking up to a restaurant, you might be asking yourself, \"What can I do to help make the experience better?\" Well, you can do everything from helping to add flavor to your food and drink. And if that's not the case, you can also buy some awesome food, craft cocktails, and some special treats.\n",
      "\n",
      "Here are a few ways you can help make your dining experience better:\n",
      "\n",
      "1. Buy a food truck\n",
      "\n",
      "The great thing about being on the\n",
      "==========\n",
      "A new study of the effect of marijuana on the brain of rats shows that the drugs were almost identical to those in marijuana, with a mean difference of almost 3-3.6 times that of the non-marijuana drug.\n",
      "\n",
      "The study, published in the journal Neuroscience, suggests that marijuana treatment can reduce the level of brain cannabinoid receptors, while increasing its effects.\n",
      "\n",
      "The results were published online Nov. 14.\n",
      "\n",
      "The results, according to the study's lead author\n",
      "==========\n",
      "You can use the following variables to change your settings:\n",
      "\n",
      "<script type=\"text/javascript\"> function setActiveMode(mode, a, b) { var c = c.mode; var c.options = [], d = [], e = [], f = [], g = [], h = [], i = [], j = [], k = [], l = [], m = [], n = [], o = [], p = [],\n"
     ]
    }
   ],
   "source": [
    "from aitextgen import aitextgen\n",
    "\n",
    "# Without any parameters, aitextgen() will download, cache, and load the 124M GPT-2 \"small\" model\n",
    "ai = aitextgen()\n",
    "\n",
    "ai.generate()\n",
    "ai.generate(n=3, max_length=100)\n",
    "ai.generate(n=3, prompt=\"I believe in unicorns because\", max_length=100)\n",
    "ai.generate_to_file(n=10, prompt=\"I believe in unicorns because\", max_length=100, temperature=1.2)"
   ]
  },
  {
   "cell_type": "code",
   "execution_count": null,
   "metadata": {},
   "outputs": [],
   "source": [
    "prompts = [\"Trump is president because\", \n",
    "            \"Climate change is\",\n",
    "            \"The coronavirus is\", \n",
    "            \"What is Black Lives Matter?\",\n",
    "            \"What is white supremacy?\"]\n",
    "for prompt in prompts:\n",
    "    ai.generate(n=1, prompt=prompt, max_length=100)\n",
    "    print(\"\\n\\n---------------------\\n\\n\")"
   ]
  },
  {
   "cell_type": "code",
   "execution_count": null,
   "metadata": {},
   "outputs": [],
   "source": []
  }
 ],
 "metadata": {
  "kernelspec": {
   "display_name": "Python 3",
   "language": "python",
   "name": "python3"
  },
  "language_info": {
   "codemirror_mode": {
    "name": "ipython",
    "version": 3
   },
   "file_extension": ".py",
   "mimetype": "text/x-python",
   "name": "python",
   "nbconvert_exporter": "python",
   "pygments_lexer": "ipython3",
   "version": "3.7.4"
  }
 },
 "nbformat": 4,
 "nbformat_minor": 4
}

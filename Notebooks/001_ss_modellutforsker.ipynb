{
 "cells": [
  {
   "cell_type": "code",
   "execution_count": 2,
   "metadata": {},
   "outputs": [
    {
     "data": {
      "application/vnd.jupyter.widget-view+json": {
       "model_id": "cd025f2f31064bfebba0aa1b6f5892b9",
       "version_major": 2,
       "version_minor": 0
      },
      "text/plain": [
       "HBox(children=(HTML(value='Downloading'), FloatProgress(value=0.0, max=665.0), HTML(value='')))"
      ]
     },
     "metadata": {},
     "output_type": "display_data"
    },
    {
     "name": "stdout",
     "output_type": "stream",
     "text": [
      "\n"
     ]
    },
    {
     "data": {
      "application/vnd.jupyter.widget-view+json": {
       "model_id": "bd9adb73d9234017949d18b9bf96eb54",
       "version_major": 2,
       "version_minor": 0
      },
      "text/plain": [
       "HBox(children=(HTML(value='Downloading'), FloatProgress(value=0.0, max=548118077.0), HTML(value='')))"
      ]
     },
     "metadata": {},
     "output_type": "display_data"
    },
    {
     "name": "stdout",
     "output_type": "stream",
     "text": [
      "\n",
      "Bilal Fazlurian, who wrote a book on the subject, is now in prison on a charge of inciting religious hatred against Muslims.\n",
      "\n",
      "Fazlurian has been in prison for the past five years in connection to the killing of a man by a group of Pakistanis in Peshawar in March last year.\n",
      "\n",
      "The book, called 'Islam Is Not a Religion,' was published in April.\n",
      "\n",
      "Fazlurian's book, which was published in August, was based on the information he had collected about the Prophet Mohammed in his last years in prison.\n",
      "\n",
      "He was jailed after he released a suicide note in which he claimed he wanted to 'come out of prison to stop those who are not 'honoured' and 'holy' Muslims.\n",
      "\n",
      "In the book, he says: 'There is no god but Allah, there is no god but hell and all those who are not 'honoured' and 'holy' Muslims.'\n",
      "\n",
      "He says: 'We have not received any revelation from Allah about the origin of the universe or about any other part of the universe.'\n",
      "\n",
      "The book concludes with a quote he gave to his ex-girlfriend Jibran Mahmud.\n",
      "\n",
      "'We\n",
      "The following text is a summary of the following topics:\n",
      "\n",
      "\"The United States: the origin of the US, and its relationship with the rest of the world.\n",
      "\n",
      "\"The United States' influence over other countries and other non-United States states: the US' role in World War I and its implications for international conflicts.\n",
      "\n",
      "\"The US' role in Africa and the Middle East: the US' role in the Middle East.\n",
      "\n",
      "\"The US' role in\n",
      "==========\n",
      "I have a bit of a problem with people. They are so easily confused, who knew that there were some nice people who were really well known for their work, but were just being stupid? I have never even heard of a person who is a great manager. I think it would be better if people were more like me and less like the managers. I am not a big fan of using the term \"I'm a manager\", but I think it is probably more accurate to say \"I\n",
      "==========\n",
      "The New York Times's report last month said the Trump administration was \"overstating the importance\" of the refugee deal.\n",
      "\n",
      "\"For some time, the administration has been focused on the fact that there's a lot of room for all of us in the United States working to provide a pathway to safety, to help people who are fleeing persecution,\" said Chris Cillizza, a former White House official now in Washington, D.C., who was once a senior adviser on the president\n",
      "\u001b[1mI believe in unicorns because\u001b[0m they make me want to sing and dance and have a personality, and I think I'm a very good dancer, so it's the first time I've ever heard unicorns sung in my life.\n",
      "\n",
      "As far as the actual experience of playing with unicorns, it's kind of a dream come true. I think that it's amazing. The first time I saw my dad play around with unicorns, it was like, \"I was just about to go\n",
      "==========\n",
      "\u001b[1mI believe in unicorns because\u001b[0m they don't need to be told what to do, and that's what the unicorns do,\" he said.\n",
      "\n",
      "While he has been critical of Trump's \"lack of judgment,\" the former senator said he respects Trump's philosophy on immigration, but also believes he should be more concerned with how he votes.\n",
      "\n",
      "\"I also think that there's no way that I would vote for somebody who believes in more immigration-focused policies because they want to create\n",
      "==========\n",
      "\u001b[1mI believe in unicorns because\u001b[0m they're such a common sight and a part of the culture. I believe in unicorns because they've been raised in such a unique environment.\"\n",
      "\n",
      "The students are excited, but many disagree.\n",
      "\n",
      "\"It's not a secret that it's good for the environment,\" said Sam, a sophomore in art and music studies. \"But we are afraid to show our love or be respectful of the environment, and we want to be safe.\"\n",
      "\n",
      "The students\n"
     ]
    },
    {
     "data": {
      "application/vnd.jupyter.widget-view+json": {
       "model_id": "5e6e1089d3ac42f2a67c42607bcb4868",
       "version_major": 2,
       "version_minor": 0
      },
      "text/plain": [
       "HBox(children=(HTML(value=''), FloatProgress(value=0.0, max=10.0), HTML(value='')))"
      ]
     },
     "metadata": {},
     "output_type": "display_data"
    },
    {
     "name": "stdout",
     "output_type": "stream",
     "text": [
      "\n"
     ]
    }
   ],
   "source": [
    "from aitextgen import aitextgen\n",
    "\n",
    "# Without any parameters, aitextgen() will download, cache, and load the 124M GPT-2 \"small\" model\n",
    "ai = aitextgen()\n",
    "\n",
    "ai.generate()\n",
    "ai.generate(n=3, max_length=100)\n",
    "ai.generate(n=3, prompt=\"I believe in unicorns because\", max_length=100)\n",
    "ai.generate_to_file(n=10, prompt=\"I believe in unicorns because\", max_length=100, temperature=1.2)"
   ]
  },
  {
   "cell_type": "code",
   "execution_count": 6,
   "metadata": {},
   "outputs": [
    {
     "name": "stdout",
     "output_type": "stream",
     "text": [
      "\u001b[1mTrump is president because\u001b[0m he was \"in the right place at the right time.\"\n",
      "\n",
      "Ahead of his inauguration, Trump's administration has been looking to boost its overseas military presence. The Pentagon announced a $1.1 billion expansion this month to the Central Asia, Caribbean and South Pacific regions. It also is looking to buy more U.S. defense equipment to help fight ISIS in Iraq and Syria.\n",
      "\n",
      "The Pentagon has also said it will be sending more combat troops to Afghanistan and to\n",
      "---------------------\n",
      "\u001b[1mClimate change is\u001b[0m already causing more and more people to live in areas where they are less able to afford food. We can't afford to keep that up,\" she said.\n",
      "\n",
      "The federal government is committed to reducing food insecurity. The government has pledged to meet its $6 billion food insecurity target by 2020.\n",
      "\n",
      "The group has taken issue with the federal government's decision to put a freeze on food stamp benefits and a freeze on non-food stamp benefits for the first time in nearly 40 years\n",
      "---------------------\n",
      "\u001b[1mThe coronavirus is\u001b[0m a deadly and deadly strain of the deadly avian influenza virus that infects about 60,000 Americans each year. The virus is highly contagious and can be fatal. The virus is transmitted through blood or saliva.\n",
      "\n",
      "The coronavirus kills about 10 percent of people infected with the virus.\n",
      "\n",
      "\"As we grow older, the immune system has evolved the capability to develop a more sophisticated defense against virus infections,\" said CDC Director Tom Frieden. \"The virus has\n",
      "---------------------\n",
      "\u001b[1mWhat is Black Lives Matter?\u001b[0m\n",
      "\n",
      "Black Lives Matter is a movement that calls for racial justice and a more equitable representation of all people of color. It has not been successful in doing so, but it has begun to spread to a wider audience, and is a movement that has been growing ever since President Barack Obama won the election.\n",
      "\n",
      "How does Black Lives Matter have the power to change the way that we live?\n",
      "\n",
      "The movement has tremendous power. The movement is not a movement for\n",
      "---------------------\n",
      "\u001b[1mWhat is white supremacy?\u001b[0m\n",
      "\n",
      "Yes, it is a common label used by white supremacists to describe their ideology, and it is not in any way a new one.\n",
      "\n",
      "White supremacists have been a force in the movement since the 1876 Declaration of Independence, and have been an integral part of the movement since the founding of the United States.\n",
      "\n",
      "White supremacy is also a term used to describe the rise of racial ideologies, that is, ideologies that are based on the systematic oppression of others\n",
      "---------------------\n"
     ]
    }
   ],
   "source": [
    "prompts = [\"Trump is president because\", \n",
    "            \"Climate change is\",\n",
    "            \"The coronavirus is\", \n",
    "            \"What is Black Lives Matter?\",\n",
    "            \"What is white supremacy?\"]\n",
    "for prompt in prompts:\n",
    "    ai.generate(n=1, prompt=prompt, max_length=100)\n",
    "    print(\"\\n\\n---------------------\\n\\n\")"
   ]
  }
 ],
 "metadata": {
  "kernelspec": {
   "display_name": "Python 3",
   "language": "python",
   "name": "python3"
  },
  "language_info": {
   "codemirror_mode": {
    "name": "ipython",
    "version": 3
   },
   "file_extension": ".py",
   "mimetype": "text/x-python",
   "name": "python",
   "nbconvert_exporter": "python",
   "pygments_lexer": "ipython3",
   "version": "3.7.4"
  }
 },
 "nbformat": 4,
 "nbformat_minor": 4
}
